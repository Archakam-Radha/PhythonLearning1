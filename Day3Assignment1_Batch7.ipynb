{
  "nbformat": 4,
  "nbformat_minor": 0,
  "metadata": {
    "colab": {
      "name": "Day3Assignment1-Batch7.ipynb",
      "provenance": []
    },
    "kernelspec": {
      "name": "python3",
      "display_name": "Python 3"
    }
  },
  "cells": [
    {
      "cell_type": "code",
      "metadata": {
        "id": "6RO_MRSuifQz",
        "colab_type": "code",
        "colab": {}
      },
      "source": [
        "#You all are pilots ,You want to land a plane ,the altitude required for loading a plane is 1000ft if it is less than that tell pilot to land the ,or it is more than that but less than 5000ft ask the pilot to came down to 1000ft,else if it is more than 5000ft ask the pilot to go around and try late "
      ],
      "execution_count": null,
      "outputs": []
    },
    {
      "cell_type": "code",
      "metadata": {
        "id": "PN6qPFCYE98w",
        "colab_type": "code",
        "colab": {
          "base_uri": "https://localhost:8080/",
          "height": 51
        },
        "outputId": "f35db746-bbcf-4817-c682-ffd44b641df0"
      },
      "source": [
        "n1=int(input(\"ft:\"))\n",
        "if (n1<=1000):\n",
        "  print(\"Safe to land\")\n",
        "elif(n1>1000 and n1<5000):\n",
        "  print(\"Bring down to 1000ft\")\n",
        "else:\n",
        "  print(\"Turn around\")\n"
      ],
      "execution_count": 2,
      "outputs": [
        {
          "output_type": "stream",
          "text": [
            "ft:1200\n",
            "Bring down to 1000ft\n"
          ],
          "name": "stdout"
        }
      ]
    }
  ]
}